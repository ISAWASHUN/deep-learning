{
  "nbformat": 4,
  "nbformat_minor": 0,
  "metadata": {
    "colab": {
      "name": "LSTM.ipynb",
      "provenance": [],
      "authorship_tag": "ABX9TyM0lxwIHe5fBnaru14ogflT",
      "include_colab_link": true
    },
    "kernelspec": {
      "name": "python3",
      "display_name": "Python 3"
    },
    "language_info": {
      "name": "python"
    },
    "accelerator": "GPU",
    "gpuClass": "standard"
  },
  "cells": [
    {
      "cell_type": "markdown",
      "metadata": {
        "id": "view-in-github",
        "colab_type": "text"
      },
      "source": [
        "<a href=\"https://colab.research.google.com/github/ISAWASHUN/deep-learning/blob/main/LSTM.ipynb\" target=\"_parent\"><img src=\"https://colab.research.google.com/assets/colab-badge.svg\" alt=\"Open In Colab\"/></a>"
      ]
    },
    {
      "cell_type": "code",
      "execution_count": 1,
      "metadata": {
        "id": "WiK8LpS6jChC"
      },
      "outputs": [],
      "source": [
        "import torch\n",
        "import torch.nn as nn\n",
        "import torch.optim as optim\n",
        "import matplotlib.pyplot as plt\n",
        "import numpy as np\n",
        "plt.style.use(\"ggplot\")\n",
        "%matplotlib inline"
      ]
    },
    {
      "cell_type": "code",
      "source": [
        "x = np.linspace(0, 499, 500)\n",
        "y = np.sin(x * 2 * np.pi / 50)"
      ],
      "metadata": {
        "id": "Q57lcg4SlQ5V"
      },
      "execution_count": 2,
      "outputs": []
    },
    {
      "cell_type": "code",
      "source": [
        "plt.plot(x, y)"
      ],
      "metadata": {
        "colab": {
          "base_uri": "https://localhost:8080/",
          "height": 283
        },
        "id": "D1VToQEslUca",
        "outputId": "bdac9f66-9b1a-4ca5-d930-af59056bd4c0"
      },
      "execution_count": 3,
      "outputs": [
        {
          "output_type": "execute_result",
          "data": {
            "text/plain": [
              "[<matplotlib.lines.Line2D at 0x7fbc4661e810>]"
            ]
          },
          "metadata": {},
          "execution_count": 3
        },
        {
          "output_type": "display_data",
          "data": {
            "text/plain": [
              "<Figure size 432x288 with 1 Axes>"
            ],
            "image/png": "[encoded data removed]"
          },
          "metadata": {
            "needs_background": "light"
          }
        }
      ]
    },
    {
      "cell_type": "code",
      "source": [
        "def make_sequence_data(y, num_sequence):\n",
        "    num_data = len(y)\n",
        "    seq_data = []\n",
        "    target_data = []\n",
        "    for i in range(num_data - num_sequence):\n",
        "        seq_data.append(y[i:i+num_sequence])\n",
        "        target_data.append(y[i+num_sequence:i+num_sequence+1])\n",
        "    seq_arr = np.array(seq_data)\n",
        "    target_arr = np.array(target_data)\n",
        "    return seq_arr, target_arr"
      ],
      "metadata": {
        "id": "knk-yq2YlXxW"
      },
      "execution_count": 4,
      "outputs": []
    },
    {
      "cell_type": "code",
      "source": [
        "seq_length = 40\n",
        "y_seq, y_target = make_sequence_data(y, seq_length)"
      ],
      "metadata": {
        "id": "RNvvCC9Gla_f"
      },
      "execution_count": 5,
      "outputs": []
    },
    {
      "cell_type": "code",
      "source": [
        "y_seq.shape"
      ],
      "metadata": {
        "colab": {
          "base_uri": "https://localhost:8080/"
        },
        "id": "qlLGnYmcldWG",
        "outputId": "e4b8c464-b0d4-44ec-f382-dc4ccd730333"
      },
      "execution_count": 6,
      "outputs": [
        {
          "output_type": "execute_result",
          "data": {
            "text/plain": [
              "(460, 40)"
            ]
          },
          "metadata": {},
          "execution_count": 6
        }
      ]
    },
    {
      "cell_type": "code",
      "source": [
        "y_target.shape"
      ],
      "metadata": {
        "colab": {
          "base_uri": "https://localhost:8080/"
        },
        "id": "7EJaPHQDleuz",
        "outputId": "4af33f72-9fa9-4843-bd8c-58cbf670ad78"
      },
      "execution_count": 7,
      "outputs": [
        {
          "output_type": "execute_result",
          "data": {
            "text/plain": [
              "(460, 1)"
            ]
          },
          "metadata": {},
          "execution_count": 7
        }
      ]
    },
    {
      "cell_type": "code",
      "source": [
        "num_test = 10\n",
        "y_seq_train = y_seq[:-num_test]\n",
        "y_seq_test = y_seq[-num_test:]\n",
        "y_target_train = y_target[:-num_test]\n",
        "y_target_test = y_target[-num_test:]"
      ],
      "metadata": {
        "id": "D-z3S-3VlgEd"
      },
      "execution_count": 8,
      "outputs": []
    },
    {
      "cell_type": "code",
      "source": [
        "y_seq_train"
      ],
      "metadata": {
        "colab": {
          "base_uri": "https://localhost:8080/"
        },
        "id": "SNfDMSpeliyT",
        "outputId": "81919d9a-7cb9-45a0-d601-a423f1ef5e21"
      },
      "execution_count": 9,
      "outputs": [
        {
          "output_type": "execute_result",
          "data": {
            "text/plain": [
              "array([[ 0.00000000e+00,  1.25333234e-01,  2.48689887e-01, ...,\n",
              "        -9.98026728e-01, -9.98026728e-01, -9.82287251e-01],\n",
              "       [ 1.25333234e-01,  2.48689887e-01,  3.68124553e-01, ...,\n",
              "        -9.98026728e-01, -9.82287251e-01, -9.51056516e-01],\n",
              "       [ 2.48689887e-01,  3.68124553e-01,  4.81753674e-01, ...,\n",
              "        -9.82287251e-01, -9.51056516e-01, -9.04827052e-01],\n",
              "       ...,\n",
              "       [-3.68124553e-01, -2.48689887e-01, -1.25333234e-01, ...,\n",
              "        -9.04827052e-01, -9.51056516e-01, -9.82287251e-01],\n",
              "       [-2.48689887e-01, -1.25333234e-01, -2.20436424e-15, ...,\n",
              "        -9.51056516e-01, -9.82287251e-01, -9.98026728e-01],\n",
              "       [-1.25333234e-01, -2.20436424e-15,  1.25333234e-01, ...,\n",
              "        -9.82287251e-01, -9.98026728e-01, -9.98026728e-01]])"
            ]
          },
          "metadata": {},
          "execution_count": 9
        }
      ]
    },
    {
      "cell_type": "code",
      "source": [
        "y_seq_train.shape"
      ],
      "metadata": {
        "colab": {
          "base_uri": "https://localhost:8080/"
        },
        "id": "4R90BYgQlmCR",
        "outputId": "b77823ac-ad16-4701-e162-12eca718508d"
      },
      "execution_count": 10,
      "outputs": [
        {
          "output_type": "execute_result",
          "data": {
            "text/plain": [
              "(450, 40)"
            ]
          },
          "metadata": {},
          "execution_count": 10
        }
      ]
    },
    {
      "cell_type": "code",
      "source": [
        "y_seq_t = torch.FloatTensor(y_seq_train)\n",
        "y_target_t = torch.FloatTensor(y_target_train)"
      ],
      "metadata": {
        "id": "FeOvX5lEloiC"
      },
      "execution_count": 11,
      "outputs": []
    },
    {
      "cell_type": "code",
      "source": [
        "class LSTM(nn.Module):\n",
        "    def __init__(self, hidden_size):\n",
        "        super().__init__()\n",
        "        self.hidden_size = hidden_size\n",
        "        self.lstm = nn.LSTM(input_size=1, hidden_size=self.hidden_size)\n",
        "        self.linear = nn.Linear(self.hidden_size, 1)\n",
        "    def forward(self, x):\n",
        "        x, _ = self.lstm(x)\n",
        "        x_last = x[-1]\n",
        "        x = self.linear(x_last)\n",
        "        return x"
      ],
      "metadata": {
        "id": "kLhO11iumCbU"
      },
      "execution_count": 12,
      "outputs": []
    },
    {
      "cell_type": "code",
      "source": [
        "model = LSTM(100)"
      ],
      "metadata": {
        "id": "baQzIP5nmD9J"
      },
      "execution_count": 13,
      "outputs": []
    },
    {
      "cell_type": "code",
      "source": [
        "criterion = nn.MSELoss()\n",
        "optimizer = optim.Adam(model.parameters(), lr=0.001)"
      ],
      "metadata": {
        "id": "_fbcv4crmGTC"
      },
      "execution_count": 14,
      "outputs": []
    },
    {
      "cell_type": "code",
      "source": [
        "y_seq_t.size()"
      ],
      "metadata": {
        "colab": {
          "base_uri": "https://localhost:8080/"
        },
        "id": "usk7e1Z2mH0X",
        "outputId": "460d9eff-3b98-4e78-cd40-9564ac725b5a"
      },
      "execution_count": 15,
      "outputs": [
        {
          "output_type": "execute_result",
          "data": {
            "text/plain": [
              "torch.Size([450, 40])"
            ]
          },
          "metadata": {},
          "execution_count": 15
        }
      ]
    },
    {
      "cell_type": "code",
      "source": [
        "y_seq_t = y_seq_t.permute(1, 0)\n",
        "y_target_t = y_target_t.permute(1, 0)"
      ],
      "metadata": {
        "id": "ymqJhMyzmyst"
      },
      "execution_count": 16,
      "outputs": []
    },
    {
      "cell_type": "code",
      "source": [
        "y_seq_t.size()"
      ],
      "metadata": {
        "colab": {
          "base_uri": "https://localhost:8080/"
        },
        "id": "z5q8He0Lm0At",
        "outputId": "e0835a98-1cbd-48c6-c190-1b21137de0dc"
      },
      "execution_count": 17,
      "outputs": [
        {
          "output_type": "execute_result",
          "data": {
            "text/plain": [
              "torch.Size([40, 450])"
            ]
          },
          "metadata": {},
          "execution_count": 17
        }
      ]
    },
    {
      "cell_type": "code",
      "source": [
        "y_seq_t = y_seq_t.unsqueeze(dim=-1)\n",
        "y_target_t = y_target_t.unsqueeze(dim=-1)"
      ],
      "metadata": {
        "id": "EsO5jcTnm1tK"
      },
      "execution_count": 18,
      "outputs": []
    },
    {
      "cell_type": "code",
      "source": [
        "y_seq_t.size()"
      ],
      "metadata": {
        "colab": {
          "base_uri": "https://localhost:8080/"
        },
        "id": "_pw4ZtSwm3T0",
        "outputId": "bfe4e5e5-b255-4062-c7fb-6423f0b982a4"
      },
      "execution_count": 19,
      "outputs": [
        {
          "output_type": "execute_result",
          "data": {
            "text/plain": [
              "torch.Size([40, 450, 1])"
            ]
          },
          "metadata": {},
          "execution_count": 19
        }
      ]
    },
    {
      "cell_type": "code",
      "source": [
        "num_epochs = 80\n",
        "losses = []\n",
        "for epoch in range(num_epochs):\n",
        "    optimizer.zero_grad()\n",
        "    output = model(y_seq_t)\n",
        "    loss = criterion(output, y_target_t)\n",
        "    loss.backward()\n",
        "    losses.append(loss.item())\n",
        "    optimizer.step()\n",
        "    if epoch % 10 == 0:\n",
        "        print(\"epoch: {}, loss: {}\".format(epoch, loss.item()))"
      ],
      "metadata": {
        "colab": {
          "base_uri": "https://localhost:8080/"
        },
        "id": "xgd6aDwom4_0",
        "outputId": "4c160cb8-d5d0-467a-bf94-1895d88ba9bd"
      },
      "execution_count": 20,
      "outputs": [
        {
          "output_type": "stream",
          "name": "stderr",
          "text": [
            "/usr/local/lib/python3.7/dist-packages/torch/nn/modules/loss.py:530: UserWarning: Using a target size (torch.Size([1, 450, 1])) that is different to the input size (torch.Size([450, 1])). This will likely lead to incorrect results due to broadcasting. Please ensure they have the same size.\n",
            "  return F.mse_loss(input, target, reduction=self.reduction)\n"
          ]
        },
        {
          "output_type": "stream",
          "name": "stdout",
          "text": [
            "epoch: 0, loss: 0.5133805871009827\n",
            "epoch: 10, loss: 0.3892659842967987\n",
            "epoch: 20, loss: 0.2425231635570526\n",
            "epoch: 30, loss: 0.08164571225643158\n",
            "epoch: 40, loss: 0.016304155811667442\n",
            "epoch: 50, loss: 0.003187892260029912\n",
            "epoch: 60, loss: 0.0018963627517223358\n",
            "epoch: 70, loss: 0.0004689974884968251\n"
          ]
        }
      ]
    },
    {
      "cell_type": "code",
      "source": [
        "plt.plot(losses)"
      ],
      "metadata": {
        "colab": {
          "base_uri": "https://localhost:8080/",
          "height": 283
        },
        "id": "La5__lFjm9CY",
        "outputId": "c58890d7-cb59-48e4-a7d1-640212b127a7"
      },
      "execution_count": 21,
      "outputs": [
        {
          "output_type": "execute_result",
          "data": {
            "text/plain": [
              "[<matplotlib.lines.Line2D at 0x7fbc400e1650>]"
            ]
          },
          "metadata": {},
          "execution_count": 21
        },
        {
          "output_type": "display_data",
          "data": {
            "text/plain": [
              "<Figure size 432x288 with 1 Axes>"
            ],
            "image/png": "[encoded data removed]"
          },
          "metadata": {
            "needs_background": "light"
          }
        }
      ]
    },
    {
      "cell_type": "code",
      "source": [
        "y_seq_test_t = torch.FloatTensor(y_seq_test)\n",
        "y_seq_test_t = y_seq_test_t.permute(1, 0)\n",
        "y_seq_test_t = y_seq_test_t.unsqueeze(dim=-1)"
      ],
      "metadata": {
        "id": "4vDPqzkNm_Ra"
      },
      "execution_count": 22,
      "outputs": []
    },
    {
      "cell_type": "code",
      "source": [
        "y_seq_test_t.size()"
      ],
      "metadata": {
        "colab": {
          "base_uri": "https://localhost:8080/"
        },
        "id": "Wl_p_EUHnFCo",
        "outputId": "ead4d5bb-94a7-4445-87d2-357a165ed3c4"
      },
      "execution_count": 23,
      "outputs": [
        {
          "output_type": "execute_result",
          "data": {
            "text/plain": [
              "torch.Size([40, 10, 1])"
            ]
          },
          "metadata": {},
          "execution_count": 23
        }
      ]
    },
    {
      "cell_type": "code",
      "source": [
        "y_pred = model(y_seq_test_t)"
      ],
      "metadata": {
        "id": "KVPGCsn8nGWC"
      },
      "execution_count": 24,
      "outputs": []
    },
    {
      "cell_type": "code",
      "source": [
        "y_pred.size()"
      ],
      "metadata": {
        "colab": {
          "base_uri": "https://localhost:8080/"
        },
        "id": "Qc6aWLhCnHin",
        "outputId": "6ecbb5b8-ba6d-4987-939b-cd20767628dc"
      },
      "execution_count": 25,
      "outputs": [
        {
          "output_type": "execute_result",
          "data": {
            "text/plain": [
              "torch.Size([10, 1])"
            ]
          },
          "metadata": {},
          "execution_count": 25
        }
      ]
    },
    {
      "cell_type": "code",
      "source": [
        "plt.plot(x, y)\n",
        "plt.plot(np.arange(490, 500), y_pred.detach())\n",
        "plt.xlim([450, 500])"
      ],
      "metadata": {
        "colab": {
          "base_uri": "https://localhost:8080/",
          "height": 283
        },
        "id": "nHf7B73-nI4D",
        "outputId": "dde8ae2e-0326-4740-d826-f1a89e85a6c8"
      },
      "execution_count": 26,
      "outputs": [
        {
          "output_type": "execute_result",
          "data": {
            "text/plain": [
              "(450.0, 500.0)"
            ]
          },
          "metadata": {},
          "execution_count": 26
        },
        {
          "output_type": "display_data",
          "data": {
            "text/plain": [
              "<Figure size 432x288 with 1 Axes>"
            ],
            "image/png": "[encoded data removed]"
          },
          "metadata": {
            "needs_background": "light"
          }
        }
      ]
    },
    {
      "cell_type": "code",
      "source": [],
      "metadata": {
        "id": "3STonFZ4nKR0"
      },
      "execution_count": null,
      "outputs": []
    }
  ]
}